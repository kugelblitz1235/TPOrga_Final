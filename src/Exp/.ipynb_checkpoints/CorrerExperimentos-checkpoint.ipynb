{
 "cells": [
  {
   "cell_type": "markdown",
   "metadata": {},
   "source": [
    "# Correr experimentos"
   ]
  },
  {
   "cell_type": "code",
   "execution_count": 1,
   "metadata": {},
   "outputs": [],
   "source": [
    "import math, subprocess\n",
    "import pandas as pd\n",
    "import numpy as np\n",
    "from IPython.display import display, clear_output"
   ]
  },
  {
   "cell_type": "code",
   "execution_count": 3,
   "metadata": {},
   "outputs": [],
   "source": [
    "def correr_experimento(algoritmo, secuencia1, secuencia2):\n",
    "    # Leer archivo de la instancia.\n",
    "    instancia = leer_instancia(archivo_instancia)\n",
    "\n",
    "    # Crear proceso para ejecutar el codigo.\n",
    "    process = subprocess.Popen([\"../../cli\", \"-a\", algoritmo, \"-s\", secuencia1, \"-t\", secuencia2], stderr=subprocess.PIPE, stdout=subprocess.PIPE, stdin=subprocess.PIPE, universal_newlines = True)\n",
    "\n",
    "    exit_code = process.wait()\n",
    "\n",
    "    # Verificar que el proceso no fallo.\n",
    "    assert exit_code == 0, F\"Hubo un error en la experimentacion para el algoritmo: {algoritmo} con la instancia {archivo_instancia}.\"\n",
    "    # Leer salida de STDERR con los tiempos de ejecucion de cada metodo.\n",
    "    outputs = process.stderr.readline().split(); \n",
    "    \n",
    "    tiempo = outputs[0]\n",
    "    celdas = outputs[1]\n",
    "    score = outputs[2]\n",
    "    longitud1 = outputs[3]\n",
    "    longitud2 = outputs[4]\n",
    "    \n",
    "    process.stdin.close();\n",
    "    process.stdout.close();\n",
    "    process.stderr.close();\n",
    "\n",
    "    return tiempo, celdas, score, longitud1, longitud2"
   ]
  },
  {
   "cell_type": "code",
   "execution_count": 4,
   "metadata": {},
   "outputs": [],
   "source": [
    "experimentos = [];"
   ]
  },
  {
   "cell_type": "markdown",
   "metadata": {},
   "source": [
    "# Experimento NW"
   ]
  },
  {
   "cell_type": "code",
   "execution_count": 15,
   "metadata": {},
   "outputs": [],
   "source": []
  },
  {
   "cell_type": "markdown",
   "metadata": {},
   "source": [
    "# Experimento SW"
   ]
  },
  {
   "cell_type": "code",
   "execution_count": null,
   "metadata": {},
   "outputs": [],
   "source": []
  },
  {
   "cell_type": "code",
   "execution_count": 6,
   "metadata": {
    "tags": []
   },
   "outputs": [
    {
     "data": {
      "text/plain": [
       "'Experimento: 600/600'"
      ]
     },
     "metadata": {},
     "output_type": "display_data"
    }
   ],
   "source": [
    "columnas = [\n",
    "    \"algoritmo\",\n",
    "    \"secuencia1\",\n",
    "    \"secuencia2\",\n",
    "    \"longitud1\",\n",
    "    \"longitud2\",\n",
    "    \"tiempo\",\n",
    "    \"celdas\",\n",
    "    \"score\"\n",
    "];\n",
    "\n",
    "filas = [];\n",
    "numero = 1\n",
    "T = 1 # Numero de veces que se ejecuta cada experimento\n",
    "for experimento in experimentos:\n",
    "    \n",
    "    clear_output(wait=True)\n",
    "    display('Experimento: ' + str(numero) + \"/\" + str(len(experimentos)))\n",
    "    numero += 1\n",
    "    \n",
    "    \n",
    "    tiempos = []\n",
    "      \n",
    "    for i in range(0, T):\n",
    "        tiempo, celdas, score, longitud1, longitud2 = correr_experimento(algoritmo, secuencia1, secuencia2)\n",
    "        tiempos.append(tiempo);\n",
    "        \n",
    "    tiempo_promedio = np.median(tiempos);\n",
    "    \n",
    "    filas.append([\n",
    "        algoritmo,\n",
    "        secuencia1,\n",
    "        secuencia2,\n",
    "        longitud1,\n",
    "        longitud2\n",
    "        tiempo,\n",
    "        celdas,\n",
    "        score\n",
    "    ]\n",
    "    );\n"
   ]
  },
  {
   "cell_type": "code",
   "execution_count": 8,
   "metadata": {},
   "outputs": [],
   "source": [
    "df_resultado = pd.DataFrame(filas, columns=columnas);\n",
    "df_resultado.to_csv(\"../results/resultado.csv\", index=False, header=True);"
   ]
  },
  {
   "cell_type": "code",
   "execution_count": null,
   "metadata": {},
   "outputs": [],
   "source": []
  }
 ],
 "metadata": {
  "kernelspec": {
   "display_name": "Python 3",
   "language": "python",
   "name": "python3"
  },
  "language_info": {
   "codemirror_mode": {
    "name": "ipython",
    "version": 3
   },
   "file_extension": ".py",
   "mimetype": "text/x-python",
   "name": "python",
   "nbconvert_exporter": "python",
   "pygments_lexer": "ipython3",
   "version": "3.6.9"
  }
 },
 "nbformat": 4,
 "nbformat_minor": 4
}
