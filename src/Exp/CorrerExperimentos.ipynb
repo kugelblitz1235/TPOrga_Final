{
 "cells": [
  {
   "cell_type": "markdown",
   "metadata": {},
   "source": [
    "# Correr experimentos"
   ]
  },
  {
   "cell_type": "code",
   "execution_count": 15,
   "metadata": {},
   "outputs": [],
   "source": [
    "import math, subprocess\n",
    "import numpy as np\n",
    "import os\n",
    "from IPython.display import display, clear_output"
   ]
  },
  {
   "cell_type": "code",
   "execution_count": 16,
   "metadata": {},
   "outputs": [],
   "source": [
    "def correr_experimento(algoritmo, secuencia1, secuencia2):\n",
    "    # Crear proceso para ejecutar el codigo.\n",
    "    process = subprocess.Popen([\"../../cli\", \"-a\", algoritmo, \"-s\", secuencia1, \"-t\", secuencia2], stderr=subprocess.PIPE, stdout=subprocess.PIPE, stdin=subprocess.PIPE, universal_newlines = True)\n",
    "    \n",
    "    exit_code = process.wait()\n",
    "\n",
    "    # Verificar que el proceso no fallo.\n",
    "    assert exit_code == 0, F\"Hubo un error en la experimentacion para el algoritmo: {algoritmo} con la secuencia {secuencia1} y {secuencia2}.\"\n",
    "    # Leer salida de STDERR con los tiempos de ejecucion de cada metodo.\n",
    "    outputs = process.stderr.readline().split(); \n",
    "    \n",
    "    tiempo = outputs[0]\n",
    "    celdas = outputs[1]\n",
    "    score = outputs[2]\n",
    "    longitud1 = outputs[3]\n",
    "    longitud2 = outputs[4]\n",
    "    \n",
    "    process.stdin.close();\n",
    "    process.stdout.close();\n",
    "    process.stderr.close();\n",
    "\n",
    "    return tiempo, celdas, score, longitud1, longitud2"
   ]
  },
  {
   "cell_type": "code",
   "execution_count": 17,
   "metadata": {},
   "outputs": [],
   "source": [
    "experimentos = [];"
   ]
  },
  {
   "cell_type": "markdown",
   "metadata": {},
   "source": [
    "# Experimento NW"
   ]
  },
  {
   "cell_type": "code",
   "execution_count": 18,
   "metadata": {},
   "outputs": [],
   "source": [
    "genomes = [f\"../../sequences/genomes/{name}\" for name in os.listdir(\"../../sequences/genomes/\")]\n",
    "\n",
    "for genome1 in genomes:\n",
    "    for genome2 in genomes:\n",
    "        if genome1 == genome2:\n",
    "            continue\n",
    "        for lenguaje in [\"C\",\"ASM\"]:\n",
    "            for tecnologia in [\"LIN\",\"SSE\",\"AVX\",\"AVX512\"]:\n",
    "                algoritmo = f\"NW_{lenguaje}_{tecnologia}\"\n",
    "                experimentos.append([algoritmo, genome1, genome2])\n",
    "\n",
    "randoms = [f\"../../sequences/random/{name}\" for name in os.listdir(\"../../sequences/random/\")]\n",
    "\n",
    "for random1 in randoms:\n",
    "    random1_len = random1.split('_')[1]\n",
    "    for random2 in randoms:\n",
    "        random2_len = random2.split('_')[1]\n",
    "        if random1_len != random2_len or random1 == random2:\n",
    "            continue\n",
    "        for lenguaje in [\"C\",\"ASM\"]:\n",
    "            for tecnologia in [\"LIN\",\"SSE\",\"AVX\",\"AVX512\"]:\n",
    "                algoritmo = f\"NW_{lenguaje}_{tecnologia}\"\n",
    "                experimentos.append([algoritmo, random1, random2])"
   ]
  },
  {
   "cell_type": "markdown",
   "metadata": {},
   "source": [
    "# Experimento SW"
   ]
  },
  {
   "cell_type": "code",
   "execution_count": 13,
   "metadata": {},
   "outputs": [],
   "source": [
    "ref_seq_dirs = [name for name in os.listdir(\"../../sequences/reads/\")]\n",
    "\n",
    "ref_seq_and_read_pairs = []\n",
    "\n",
    "for ref_dir in ref_seq_dirs:\n",
    "    ref_seq = f\"../../sequences/genomes/{ref_dir}.fasta\"\n",
    "    for name in os.listdir(f\"../../sequences/reads/{ref_dir}\"):\n",
    "        ref_seq_read = f\"../../sequences/reads/{ref_dir}/{name}\" \n",
    "        ref_seq_and_read_pairs.append((ref_seq, ref_seq_read))\n",
    "\n",
    "for seq_pairs in ref_seq_and_read_pairs:\n",
    "    for lenguaje in [\"C\",\"ASM\"]:\n",
    "        for tecnologia in [\"LIN\",\"SSE\",\"AVX\",\"AVX512\"]:\n",
    "            algoritmo = f\"SW_{lenguaje}_{tecnologia}\"\n",
    "            experimentos.append([algoritmo, seq_pairs[0], seq_pairs[1]])"
   ]
  },
  {
   "cell_type": "code",
   "execution_count": 14,
   "metadata": {
    "tags": []
   },
   "outputs": [],
   "source": [
    "columnas = [\n",
    "    \"algoritmo\",\n",
    "    \"secuencia1\",\n",
    "    \"secuencia2\",\n",
    "    \"longitud1\",\n",
    "    \"longitud2\",\n",
    "    \"tiempo\",\n",
    "    \"celdas\",\n",
    "    \"score\"\n",
    "];\n",
    "\n",
    "filas = [];\n",
    "numero = 1\n",
    "T = 1 # Numero de veces que se ejecuta cada experimento\n",
    "for experimento in experimentos:\n",
    "    \n",
    "    clear_output(wait=True)\n",
    "    display('Experimento: ' + str(numero) + \"/\" + str(len(experimentos)))\n",
    "    numero += 1\n",
    "    \n",
    "    algoritmo = experimento[0]\n",
    "    secuencia1 = experimento[1]\n",
    "    secuencia2 = experimento[2]\n",
    "    \n",
    "    tiempos = []\n",
    "      \n",
    "    for i in range(0, T):\n",
    "        tiempo, celdas, score, longitud1, longitud2 = correr_experimento(algoritmo, secuencia1, secuencia2)\n",
    "        tiempos.append(tiempo);\n",
    "        \n",
    "    tiempo_promedio = np.median(tiempos);\n",
    "    \n",
    "    filas.append([\n",
    "        algoritmo,\n",
    "        secuencia1,\n",
    "        secuencia2,\n",
    "        longitud1,\n",
    "        longitud2,\n",
    "        tiempo_promedio,\n",
    "        celdas,\n",
    "        score]\n",
    "    );\n"
   ]
  },
  {
   "cell_type": "code",
   "execution_count": null,
   "metadata": {},
   "outputs": [],
   "source": [
    "df_resultado = pd.DataFrame(filas, columns=columnas);\n",
    "df_resultado.to_csv(\"../results/resultado.csv\", index=False, header=True);"
   ]
  },
  {
   "cell_type": "code",
   "execution_count": null,
   "metadata": {},
   "outputs": [],
   "source": []
  }
 ],
 "metadata": {
  "kernelspec": {
   "display_name": "Python 3",
   "language": "python",
   "name": "python3"
  },
  "language_info": {
   "codemirror_mode": {
    "name": "ipython",
    "version": 3
   },
   "file_extension": ".py",
   "mimetype": "text/x-python",
   "name": "python",
   "nbconvert_exporter": "python",
   "pygments_lexer": "ipython3",
   "version": "3.6.9"
  }
 },
 "nbformat": 4,
 "nbformat_minor": 4
}
