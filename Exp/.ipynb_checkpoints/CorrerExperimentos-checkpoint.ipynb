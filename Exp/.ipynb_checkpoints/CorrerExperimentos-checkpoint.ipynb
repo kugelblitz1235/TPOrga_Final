{
 "cells": [
  {
   "cell_type": "markdown",
   "metadata": {},
   "source": [
    "# Correr experimentos"
   ]
  },
  {
   "cell_type": "code",
   "execution_count": 1,
   "metadata": {},
   "outputs": [],
   "source": [
    "import math, subprocess\n",
    "import numpy as np\n",
    "import os\n",
    "from IPython.display import display, clear_output"
   ]
  },
  {
   "cell_type": "code",
   "execution_count": 2,
   "metadata": {},
   "outputs": [],
   "source": [
    "def correr_experimento(algoritmo, secuencia1, secuencia2):\n",
    "    # Crear proceso para ejecutar el codigo.\n",
    "    process = subprocess.Popen([\"../cli\", \"-a\", algoritmo, \"-s\", secuencia1, \"-t\", secuencia2], stderr=subprocess.PIPE, stdout=subprocess.PIPE, stdin=subprocess.PIPE, universal_newlines = True)\n",
    "    \n",
    "    exit_code = process.wait()\n",
    "\n",
    "    # Verificar que el proceso no fallo.\n",
    "    assert exit_code == 0, F\"Hubo un error en la experimentacion para el algoritmo: {algoritmo} con la secuencia {secuencia1} y {secuencia2}.\"\n",
    "    # Leer salida de STDERR con los tiempos de ejecucion de cada metodo.\n",
    "    outputs = process.stderr.readline().split(); \n",
    "    \n",
    "    tiempo = outputs[0]\n",
    "    celdas = outputs[1]\n",
    "    score = outputs[2]\n",
    "    longitud1 = outputs[3]\n",
    "    longitud2 = outputs[4]\n",
    "    \n",
    "    process.stdin.close();\n",
    "    process.stdout.close();\n",
    "    process.stderr.close();\n",
    "\n",
    "    return tiempo, celdas, score, longitud1, longitud2"
   ]
  },
  {
   "cell_type": "code",
   "execution_count": 3,
   "metadata": {},
   "outputs": [],
   "source": [
    "experimentos = [];"
   ]
  },
  {
   "cell_type": "markdown",
   "metadata": {},
   "source": [
    "# Experimento NW"
   ]
  },
  {
   "cell_type": "code",
   "execution_count": 4,
   "metadata": {},
   "outputs": [],
   "source": [
    "genomes = [f\"../sequences/genomes/{name}\" for name in os.listdir(\"../sequences/genomes/\")]\n",
    "\n",
    "for genome1 in genomes:\n",
    "    for genome2 in genomes:\n",
    "        if genome1 == genome2:\n",
    "            continue\n",
    "        for lenguaje in [\"C\",\"ASM\"]:\n",
    "            for tecnologia in [\"LIN\",\"SSE\",\"AVX\",\"AVX512\"]:\n",
    "                if not (lenguaje == \"ASM\" and tecnologia == \"LIN\"):\n",
    "                    algoritmo = f\"NW_{lenguaje}_{tecnologia}\"\n",
    "                    experimentos.append([\"NW_genomes\", algoritmo, genome1, genome2])\n",
    "\n",
    "randoms = [f\"../sequences/random/{name}\" for name in os.listdir(\"../sequences/random/\")]\n",
    "\n",
    "for random1 in randoms:\n",
    "    random1_len = random1.split('_')[1]\n",
    "    for random2 in randoms:\n",
    "        random2_len = random2.split('_')[1]\n",
    "        if random1_len != random2_len or random1 == random2:\n",
    "            continue\n",
    "        for lenguaje in [\"C\",\"ASM\"]:\n",
    "            for tecnologia in [\"LIN\",\"SSE\",\"AVX\",\"AVX512\"]:\n",
    "                if not (lenguaje == \"ASM\" and tecnologia == \"LIN\"):\n",
    "                    algoritmo = f\"NW_{lenguaje}_{tecnologia}\"\n",
    "                    experimentos.append([\"NW_random\", algoritmo, random1, random2])"
   ]
  },
  {
   "cell_type": "markdown",
   "metadata": {},
   "source": [
    "# Experimento SW"
   ]
  },
  {
   "cell_type": "code",
   "execution_count": 5,
   "metadata": {},
   "outputs": [],
   "source": [
    "ref_seq_dirs = [name for name in os.listdir(\"../sequences/reads/\")]\n",
    "\n",
    "ref_seq_and_read_pairs = []\n",
    "\n",
    "for ref_dir in ref_seq_dirs:\n",
    "    ref_seq = f\"../sequences/genomes/{ref_dir}.fasta\"\n",
    "    for name in os.listdir(f\"../sequences/reads/{ref_dir}\"):\n",
    "        ref_seq_read = f\"../sequences/reads/{ref_dir}/{name}\" \n",
    "        ref_seq_and_read_pairs.append((ref_seq, ref_seq_read))\n",
    "\n",
    "for seq_pairs in ref_seq_and_read_pairs:\n",
    "    for lenguaje in [\"C\",\"ASM\"]:\n",
    "        for tecnologia in [\"LIN\",\"SSE\",\"AVX\",\"AVX512\"]:\n",
    "            if not (lenguaje == \"ASM\" and tecnologia == \"LIN\"):\n",
    "                algoritmo = f\"SW_{lenguaje}_{tecnologia}\"\n",
    "                experimentos.append([\"SW_reads\", algoritmo, seq_pairs[0], seq_pairs[1]])\n",
    "            \n",
    "\n",
    "randoms = [f\"../sequences/random/{name}\" for name in os.listdir(\"../sequences/random/\")]\n",
    "\n",
    "for random1 in randoms:\n",
    "    random1_len = random1.split('_')[1]\n",
    "    for random2 in randoms:\n",
    "        random2_len = random2.split('_')[1]\n",
    "        if random1_len != random2_len or random1 == random2:\n",
    "            continue\n",
    "        for lenguaje in [\"C\",\"ASM\"]:\n",
    "            for tecnologia in [\"LIN\",\"SSE\",\"AVX\",\"AVX512\"]:\n",
    "                if not (lenguaje == \"ASM\" and tecnologia == \"LIN\"):\n",
    "                    algoritmo = f\"SW_{lenguaje}_{tecnologia}\"\n",
    "                    experimentos.append([\"SW_random\", algoritmo, random1, random2])"
   ]
  },
  {
   "cell_type": "code",
   "execution_count": 7,
   "metadata": {
    "tags": []
   },
   "outputs": [
    {
     "data": {
      "text/plain": [
       "'Experimento: 5/72320'"
      ]
     },
     "metadata": {},
     "output_type": "display_data"
    },
    {
     "ename": "AssertionError",
     "evalue": "Hubo un error en la experimentacion para el algoritmo: NW_ASM_LIN con la secuencia ../sequences/genomes/H1N1_S1_JX046923.fasta y ../sequences/genomes/H1N1_S8_JQ431308.fasta.",
     "output_type": "error",
     "traceback": [
      "\u001b[0;31m---------------------------------------------------------------------------\u001b[0m",
      "\u001b[0;31mAssertionError\u001b[0m                            Traceback (most recent call last)",
      "\u001b[0;32m<ipython-input-7-daeb149ee198>\u001b[0m in \u001b[0;36m<module>\u001b[0;34m\u001b[0m\n\u001b[1;32m     28\u001b[0m \u001b[0;34m\u001b[0m\u001b[0m\n\u001b[1;32m     29\u001b[0m     \u001b[0;32mfor\u001b[0m \u001b[0mi\u001b[0m \u001b[0;32min\u001b[0m \u001b[0mrange\u001b[0m\u001b[0;34m(\u001b[0m\u001b[0;36m0\u001b[0m\u001b[0;34m,\u001b[0m \u001b[0mT\u001b[0m\u001b[0;34m)\u001b[0m\u001b[0;34m:\u001b[0m\u001b[0;34m\u001b[0m\u001b[0;34m\u001b[0m\u001b[0m\n\u001b[0;32m---> 30\u001b[0;31m         \u001b[0mtiempo\u001b[0m\u001b[0;34m,\u001b[0m \u001b[0mceldas\u001b[0m\u001b[0;34m,\u001b[0m \u001b[0mscore\u001b[0m\u001b[0;34m,\u001b[0m \u001b[0mlongitud1\u001b[0m\u001b[0;34m,\u001b[0m \u001b[0mlongitud2\u001b[0m \u001b[0;34m=\u001b[0m \u001b[0mcorrer_experimento\u001b[0m\u001b[0;34m(\u001b[0m\u001b[0malgoritmo\u001b[0m\u001b[0;34m,\u001b[0m \u001b[0msecuencia1\u001b[0m\u001b[0;34m,\u001b[0m \u001b[0msecuencia2\u001b[0m\u001b[0;34m)\u001b[0m\u001b[0;34m\u001b[0m\u001b[0;34m\u001b[0m\u001b[0m\n\u001b[0m\u001b[1;32m     31\u001b[0m \u001b[0;31m#         tiempos.append(tiempo);\u001b[0m\u001b[0;34m\u001b[0m\u001b[0;34m\u001b[0m\u001b[0;34m\u001b[0m\u001b[0m\n\u001b[1;32m     32\u001b[0m \u001b[0;34m\u001b[0m\u001b[0m\n",
      "\u001b[0;32m<ipython-input-2-d269af207ff8>\u001b[0m in \u001b[0;36mcorrer_experimento\u001b[0;34m(algoritmo, secuencia1, secuencia2)\u001b[0m\n\u001b[1;32m      6\u001b[0m \u001b[0;34m\u001b[0m\u001b[0m\n\u001b[1;32m      7\u001b[0m     \u001b[0;31m# Verificar que el proceso no fallo.\u001b[0m\u001b[0;34m\u001b[0m\u001b[0;34m\u001b[0m\u001b[0;34m\u001b[0m\u001b[0m\n\u001b[0;32m----> 8\u001b[0;31m     \u001b[0;32massert\u001b[0m \u001b[0mexit_code\u001b[0m \u001b[0;34m==\u001b[0m \u001b[0;36m0\u001b[0m\u001b[0;34m,\u001b[0m \u001b[0;34mF\"Hubo un error en la experimentacion para el algoritmo: {algoritmo} con la secuencia {secuencia1} y {secuencia2}.\"\u001b[0m\u001b[0;34m\u001b[0m\u001b[0;34m\u001b[0m\u001b[0m\n\u001b[0m\u001b[1;32m      9\u001b[0m     \u001b[0;31m# Leer salida de STDERR con los tiempos de ejecucion de cada metodo.\u001b[0m\u001b[0;34m\u001b[0m\u001b[0;34m\u001b[0m\u001b[0;34m\u001b[0m\u001b[0m\n\u001b[1;32m     10\u001b[0m     \u001b[0moutputs\u001b[0m \u001b[0;34m=\u001b[0m \u001b[0mprocess\u001b[0m\u001b[0;34m.\u001b[0m\u001b[0mstderr\u001b[0m\u001b[0;34m.\u001b[0m\u001b[0mreadline\u001b[0m\u001b[0;34m(\u001b[0m\u001b[0;34m)\u001b[0m\u001b[0;34m.\u001b[0m\u001b[0msplit\u001b[0m\u001b[0;34m(\u001b[0m\u001b[0;34m)\u001b[0m\u001b[0;34m;\u001b[0m\u001b[0;34m\u001b[0m\u001b[0;34m\u001b[0m\u001b[0m\n",
      "\u001b[0;31mAssertionError\u001b[0m: Hubo un error en la experimentacion para el algoritmo: NW_ASM_LIN con la secuencia ../sequences/genomes/H1N1_S1_JX046923.fasta y ../sequences/genomes/H1N1_S8_JQ431308.fasta."
     ]
    }
   ],
   "source": [
    "columnas = [\n",
    "    \"experimento\",\n",
    "    \"algoritmo\",\n",
    "    \"secuencia1\",\n",
    "    \"secuencia2\",\n",
    "    \"longitud1\",\n",
    "    \"longitud2\",\n",
    "    \"tiempo\",\n",
    "    \"celdas\",\n",
    "    \"score\"\n",
    "];\n",
    "\n",
    "filas = [];\n",
    "numero = 1\n",
    "T = 1 # Numero de veces que se ejecuta cada experimento\n",
    "for experimento in experimentos:\n",
    "    \n",
    "    clear_output(wait=True)\n",
    "    display('Experimento: ' + str(numero) + \"/\" + str(len(experimentos)))\n",
    "    numero += 1\n",
    "    \n",
    "    exp = experimento[0]\n",
    "    algoritmo = experimento[1]\n",
    "    secuencia1 = experimento[2]\n",
    "    secuencia2 = experimento[3]\n",
    "    \n",
    "#     tiempos = []\n",
    "      \n",
    "    for i in range(0, T):\n",
    "        tiempo, celdas, score, longitud1, longitud2 = correr_experimento(algoritmo, secuencia1, secuencia2)\n",
    "#         tiempos.append(tiempo);\n",
    "        \n",
    "#     tiempo_promedio = np.median(tiempos);\n",
    "    \n",
    "        filas.append([\n",
    "            exp,\n",
    "            algoritmo,\n",
    "            secuencia1,\n",
    "            secuencia2,\n",
    "            longitud1,\n",
    "            longitud2,\n",
    "            tiempo,\n",
    "            celdas,\n",
    "            score]\n",
    "        );\n"
   ]
  },
  {
   "cell_type": "code",
   "execution_count": null,
   "metadata": {},
   "outputs": [],
   "source": [
    "df_resultado = pd.DataFrame(filas, columns=columnas);\n",
    "df_resultado.to_csv(\"results/resultado.csv\", index=False, header=True);"
   ]
  },
  {
   "cell_type": "code",
   "execution_count": null,
   "metadata": {},
   "outputs": [],
   "source": []
  }
 ],
 "metadata": {
  "kernelspec": {
   "display_name": "Python 3",
   "language": "python",
   "name": "python3"
  },
  "language_info": {
   "codemirror_mode": {
    "name": "ipython",
    "version": 3
   },
   "file_extension": ".py",
   "mimetype": "text/x-python",
   "name": "python",
   "nbconvert_exporter": "python",
   "pygments_lexer": "ipython3",
   "version": "3.8.5"
  }
 },
 "nbformat": 4,
 "nbformat_minor": 4
}
